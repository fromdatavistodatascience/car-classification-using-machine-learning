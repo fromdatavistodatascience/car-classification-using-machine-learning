{
 "cells": [
  {
   "cell_type": "markdown",
   "metadata": {},
   "source": [
    "## AdaBoosting and Gradient Boosting Model \n",
    "### Import necessary libraries "
   ]
  },
  {
   "cell_type": "code",
   "execution_count": 54,
   "metadata": {},
   "outputs": [],
   "source": [
    "import pandas as pd\n",
    "import numpy as np\n",
    "import matplotlib.pyplot as plt\n",
    "%matplotlib inline\n",
    "import pickle\n",
    "import functions as fn\n",
    "from sklearn.model_selection import train_test_split, cross_val_score, KFold\n",
    "from sklearn.preprocessing import OneHotEncoder\n",
    "# Boosting library\n",
    "from sklearn.model_selection import cross_val_score, KFold\n",
    "from sklearn.ensemble import AdaBoostClassifier, GradientBoostingClassifier\n",
    "from sklearn.metrics import accuracy_score, f1_score, confusion_matrix, classification_report"
   ]
  },
  {
   "cell_type": "markdown",
   "metadata": {},
   "source": [
    "### Run data_prep.ipynb and open pickle X_train, X_test, y_train, y_test. "
   ]
  },
  {
   "cell_type": "code",
   "execution_count": 55,
   "metadata": {},
   "outputs": [
    {
     "name": "stdout",
     "output_type": "stream",
     "text": [
      "<class 'pandas.core.frame.DataFrame'>\n",
      "RangeIndex: 11914 entries, 0 to 11913\n",
      "Data columns (total 16 columns):\n",
      "Make                 11914 non-null object\n",
      "Model                11914 non-null object\n",
      "Year                 11914 non-null int64\n",
      "Engine Fuel Type     11911 non-null object\n",
      "Engine HP            11845 non-null float64\n",
      "Engine Cylinders     11884 non-null float64\n",
      "Transmission Type    11914 non-null object\n",
      "Driven_Wheels        11914 non-null object\n",
      "Number of Doors      11908 non-null float64\n",
      "Market Category      8172 non-null object\n",
      "Vehicle Size         11914 non-null object\n",
      "Vehicle Style        11914 non-null object\n",
      "highway MPG          11914 non-null int64\n",
      "city mpg             11914 non-null int64\n",
      "Popularity           11914 non-null int64\n",
      "MSRP                 11914 non-null int64\n",
      "dtypes: float64(3), int64(5), object(8)\n",
      "memory usage: 1.5+ MB\n"
     ]
    },
    {
     "name": "stderr",
     "output_type": "stream",
     "text": [
      "./data_prep.ipynb:1: SettingWithCopyWarning: \n",
      "A value is trying to be set on a copy of a slice from a DataFrame\n",
      "\n",
      "See the caveats in the documentation: http://pandas.pydata.org/pandas-docs/stable/indexing.html#indexing-view-versus-copy\n",
      "  {\n",
      "./data_prep.ipynb:1: SettingWithCopyWarning: \n",
      "A value is trying to be set on a copy of a slice from a DataFrame\n",
      "\n",
      "See the caveats in the documentation: http://pandas.pydata.org/pandas-docs/stable/indexing.html#indexing-view-versus-copy\n",
      "  {\n",
      "/anaconda3/envs/learn-env/lib/python3.7/site-packages/pandas/core/indexing.py:543: SettingWithCopyWarning: \n",
      "A value is trying to be set on a copy of a slice from a DataFrame.\n",
      "Try using .loc[row_indexer,col_indexer] = value instead\n",
      "\n",
      "See the caveats in the documentation: http://pandas.pydata.org/pandas-docs/stable/indexing.html#indexing-view-versus-copy\n",
      "  self.obj[item] = s\n"
     ]
    },
    {
     "name": "stdout",
     "output_type": "stream",
     "text": [
      "<class 'pandas.core.frame.DataFrame'>\n",
      "Int64Index: 7856 entries, 0 to 11912\n",
      "Data columns (total 16 columns):\n",
      "Make                 7856 non-null object\n",
      "Model                7856 non-null object\n",
      "Year                 7856 non-null int64\n",
      "Engine Fuel Type     7856 non-null object\n",
      "Engine HP            7856 non-null float64\n",
      "Engine Cylinders     7856 non-null float64\n",
      "Transmission Type    7856 non-null object\n",
      "Driven_Wheels        7856 non-null object\n",
      "Number of Doors      7856 non-null float64\n",
      "Market Category      6219 non-null object\n",
      "Vehicle Size         7856 non-null object\n",
      "Vehicle Style        7856 non-null object\n",
      "highway MPG          7856 non-null int64\n",
      "city mpg             7856 non-null int64\n",
      "Popularity           7856 non-null int64\n",
      "MSRP                 7856 non-null int64\n",
      "dtypes: float64(3), int64(5), object(8)\n",
      "memory usage: 1.0+ MB\n",
      "<class 'pandas.core.frame.DataFrame'>\n",
      "Int64Index: 6219 entries, 0 to 11912\n",
      "Data columns (total 16 columns):\n",
      "Make                 6219 non-null object\n",
      "Model                6219 non-null object\n",
      "Year                 6219 non-null int64\n",
      "Engine Fuel Type     6219 non-null object\n",
      "Engine HP            6219 non-null float64\n",
      "Engine Cylinders     6219 non-null float64\n",
      "Transmission Type    6219 non-null object\n",
      "Driven_Wheels        6219 non-null object\n",
      "Number of Doors      6219 non-null float64\n",
      "Market Category      6219 non-null object\n",
      "Vehicle Size         6219 non-null object\n",
      "Vehicle Style        6219 non-null object\n",
      "highway MPG          6219 non-null int64\n",
      "city mpg             6219 non-null int64\n",
      "Popularity           6219 non-null int64\n",
      "MSRP                 6219 non-null int64\n",
      "dtypes: float64(3), int64(5), object(8)\n",
      "memory usage: 826.0+ KB\n",
      "<class 'pandas.core.frame.DataFrame'>\n",
      "Int64Index: 5978 entries, 0 to 11912\n",
      "Data columns (total 16 columns):\n",
      "Make                 5978 non-null object\n",
      "Model                5978 non-null object\n",
      "Year                 5978 non-null int64\n",
      "Engine Fuel Type     5978 non-null object\n",
      "Engine HP            5978 non-null float64\n",
      "Engine Cylinders     5978 non-null float64\n",
      "Transmission Type    5978 non-null object\n",
      "Driven_Wheels        5978 non-null object\n",
      "Number of Doors      5978 non-null float64\n",
      "Market Category      5978 non-null object\n",
      "Vehicle Size         5978 non-null object\n",
      "Vehicle Style        5978 non-null object\n",
      "highway MPG          5978 non-null int64\n",
      "city mpg             5978 non-null int64\n",
      "Popularity           5978 non-null int64\n",
      "MSRP                 5978 non-null int64\n",
      "dtypes: float64(3), int64(5), object(8)\n",
      "memory usage: 794.0+ KB\n",
      "<class 'pandas.core.frame.DataFrame'>\n",
      "Int64Index: 5978 entries, 0 to 11912\n",
      "Data columns (total 15 columns):\n",
      "Make                 5978 non-null object\n",
      "Model                5978 non-null object\n",
      "Year                 5978 non-null int64\n",
      "Engine Fuel Type     5978 non-null object\n",
      "Engine HP            5978 non-null float64\n",
      "Engine Cylinders     5978 non-null float64\n",
      "Transmission Type    5978 non-null object\n",
      "Driven_Wheels        5978 non-null object\n",
      "Market Category      5978 non-null object\n",
      "Vehicle Size         5978 non-null object\n",
      "Vehicle Style        5978 non-null object\n",
      "highway MPG          5978 non-null int64\n",
      "city mpg             5978 non-null int64\n",
      "Popularity           5978 non-null int64\n",
      "MSRP                 5978 non-null int64\n",
      "dtypes: float64(2), int64(5), object(8)\n",
      "memory usage: 747.2+ KB\n"
     ]
    },
    {
     "name": "stderr",
     "output_type": "stream",
     "text": [
      "./data_prep.ipynb:1: SettingWithCopyWarning: \n",
      "A value is trying to be set on a copy of a slice from a DataFrame\n",
      "\n",
      "See the caveats in the documentation: http://pandas.pydata.org/pandas-docs/stable/indexing.html#indexing-view-versus-copy\n",
      "  {\n",
      "./data_prep.ipynb:1: SettingWithCopyWarning: \n",
      "A value is trying to be set on a copy of a slice from a DataFrame\n",
      "\n",
      "See the caveats in the documentation: http://pandas.pydata.org/pandas-docs/stable/indexing.html#indexing-view-versus-copy\n",
      "  {\n",
      "/anaconda3/envs/learn-env/lib/python3.7/site-packages/pandas/core/frame.py:3697: SettingWithCopyWarning: \n",
      "A value is trying to be set on a copy of a slice from a DataFrame\n",
      "\n",
      "See the caveats in the documentation: http://pandas.pydata.org/pandas-docs/stable/indexing.html#indexing-view-versus-copy\n",
      "  errors=errors)\n"
     ]
    },
    {
     "name": "stdout",
     "output_type": "stream",
     "text": [
      "<class 'pandas.core.frame.DataFrame'>\n",
      "Int64Index: 5966 entries, 0 to 11912\n",
      "Data columns (total 15 columns):\n",
      "Make                 5966 non-null object\n",
      "Model                5966 non-null object\n",
      "Year                 5966 non-null int64\n",
      "Engine Fuel Type     5966 non-null object\n",
      "Engine HP            5966 non-null float64\n",
      "Engine Cylinders     5966 non-null float64\n",
      "Transmission Type    5966 non-null object\n",
      "Driven_Wheels        5966 non-null object\n",
      "Market Category      5966 non-null object\n",
      "Vehicle Size         5966 non-null object\n",
      "Vehicle Style        5966 non-null object\n",
      "highway MPG          5966 non-null int64\n",
      "city mpg             5966 non-null int64\n",
      "Popularity           5966 non-null int64\n",
      "MSRP                 5966 non-null int64\n",
      "dtypes: float64(2), int64(5), object(8)\n",
      "memory usage: 745.8+ KB\n",
      "<class 'pandas.core.frame.DataFrame'>\n",
      "Int64Index: 5966 entries, 0 to 11912\n",
      "Data columns (total 23 columns):\n",
      "Year                 5966 non-null int64\n",
      "Engine Fuel Type     5966 non-null object\n",
      "Engine HP            5966 non-null float64\n",
      "Engine Cylinders     5966 non-null float64\n",
      "Transmission Type    5966 non-null object\n",
      "Driven_Wheels        5966 non-null object\n",
      "Vehicle Size         5966 non-null object\n",
      "Vehicle Style        5966 non-null object\n",
      "highway MPG          5966 non-null int64\n",
      "city mpg             5966 non-null int64\n",
      "Popularity           5966 non-null int64\n",
      "MSRP                 5966 non-null int64\n",
      "Origin               5966 non-null object\n",
      "Luxury               5966 non-null int64\n",
      "Exotic               5966 non-null int64\n",
      "Diesel               5966 non-null int64\n",
      "High-Performance     5966 non-null int64\n",
      "Hybrid               5966 non-null int64\n",
      "Factory Tuner        5966 non-null int64\n",
      "Performance          5966 non-null int64\n",
      "Hatchback            5966 non-null int64\n",
      "Flex Fuel            5966 non-null int64\n",
      "Crossover            5966 non-null int64\n",
      "dtypes: float64(2), int64(15), object(6)\n",
      "memory usage: 1.1+ MB\n"
     ]
    }
   ],
   "source": [
    "% run ./data_prep.ipynb"
   ]
  },
  {
   "cell_type": "code",
   "execution_count": 56,
   "metadata": {},
   "outputs": [],
   "source": [
    "with open('X_train.pickle', 'rb') as f:\n",
    "    X_train = pickle.load(f)\n",
    "    \n",
    "with open('X_test.pickle', 'rb') as f:\n",
    "    X_test = pickle.load(f)\n",
    "    \n",
    "with open('y_train.pickle', 'rb') as f:\n",
    "    y_train = pickle.load(f)\n",
    "    \n",
    "with open('y_test.pickle', 'rb') as f:\n",
    "    y_test = pickle.load(f)"
   ]
  },
  {
   "cell_type": "code",
   "execution_count": 57,
   "metadata": {},
   "outputs": [],
   "source": [
    "# Drop feature Popularity because feature is not clear how the popularity is measure.\n",
    "del X_train['Popularity']\n",
    "del X_test['Popularity']\n"
   ]
  },
  {
   "cell_type": "code",
   "execution_count": 58,
   "metadata": {},
   "outputs": [],
   "source": [
    "# Assign classifiers\n",
    "adaboost_clf = AdaBoostClassifier()\n",
    "gbt_clf = GradientBoostingClassifier()"
   ]
  },
  {
   "cell_type": "code",
   "execution_count": 59,
   "metadata": {},
   "outputs": [
    {
     "data": {
      "text/plain": [
       "GradientBoostingClassifier(criterion='friedman_mse', init=None,\n",
       "                           learning_rate=0.1, loss='deviance', max_depth=3,\n",
       "                           max_features=None, max_leaf_nodes=None,\n",
       "                           min_impurity_decrease=0.0, min_impurity_split=None,\n",
       "                           min_samples_leaf=1, min_samples_split=2,\n",
       "                           min_weight_fraction_leaf=0.0, n_estimators=100,\n",
       "                           n_iter_no_change=None, presort='auto',\n",
       "                           random_state=None, subsample=1.0, tol=0.0001,\n",
       "                           validation_fraction=0.1, verbose=0,\n",
       "                           warm_start=False)"
      ]
     },
     "execution_count": 59,
     "metadata": {},
     "output_type": "execute_result"
    }
   ],
   "source": [
    "# Train each of the classifieres using training data\n",
    "adaboost_clf.fit(X_train, y_train)\n",
    "gbt_clf.fit(X_train, y_train)"
   ]
  },
  {
   "cell_type": "code",
   "execution_count": 60,
   "metadata": {},
   "outputs": [],
   "source": [
    "# Create predictions using each model to calculate the training and testing accuracy for each.\n",
    "adaboost_train_preds = adaboost_clf.predict(X_train)\n",
    "adaboost_test_preds = adaboost_clf.predict(X_test)\n",
    "gbt_clf_train_preds = gbt_clf.predict(X_train)\n",
    "gbt_clf_test_preds = gbt_clf.predict(X_test)"
   ]
  },
  {
   "cell_type": "markdown",
   "metadata": {},
   "source": [
    "### Calculate the training and testing accuracy and f1-score for each model"
   ]
  },
  {
   "cell_type": "code",
   "execution_count": 61,
   "metadata": {},
   "outputs": [
    {
     "name": "stdout",
     "output_type": "stream",
     "text": [
      "Training Metrics:\n",
      "Accuracy: 0.5165400089405454\n",
      "Accuracy: 0.9696021457308895\n",
      "Test Metrics:\n",
      "F1-Score 0.514745308310992\n",
      "F1-Score 0.9323056300268097\n"
     ]
    }
   ],
   "source": [
    "print(\"Training Metrics:\")\n",
    "print(\"Accuracy:\", accuracy_score(y_train, adaboost_train_preds))\n",
    "print(\"Accuracy:\", accuracy_score(y_train, gbt_clf_train_preds))\n",
    "\n",
    "print(\"Test Metrics:\")\n",
    "print(\"F1-Score\", f1_score(y_test, adaboost_test_preds, average='micro'))\n",
    "print(\"F1-Score\", f1_score(y_test, gbt_clf_test_preds, average='micro'))"
   ]
  },
  {
   "cell_type": "markdown",
   "metadata": {},
   "source": [
    "### Create a confusion matrix and classification report for adaboost & Gradient Boosting"
   ]
  },
  {
   "cell_type": "code",
   "execution_count": 62,
   "metadata": {},
   "outputs": [
    {
     "name": "stdout",
     "output_type": "stream",
     "text": [
      "Confusion Matrix:\n",
      "[[192  37   0  47  37   4   0]\n",
      " [  2  15   0  12   0   8   0]\n",
      " [  2   0   0   0  62   0   0]\n",
      " [ 59  37   0 263 101   0   0]\n",
      " [ 11   6   0 183 278   0   0]\n",
      " [  3  19   0   0  22  20   0]\n",
      " [  0   4   0  63   5   0   0]]\n",
      "\n",
      "\n",
      "              precision    recall  f1-score   support\n",
      "\n",
      "           0       0.71      0.61      0.66       317\n",
      "           1       0.13      0.41      0.19        37\n",
      "           2       0.00      0.00      0.00        64\n",
      "           3       0.46      0.57      0.51       460\n",
      "           4       0.55      0.58      0.57       478\n",
      "           5       0.62      0.31      0.42        64\n",
      "           6       0.00      0.00      0.00        72\n",
      "\n",
      "    accuracy                           0.51      1492\n",
      "   macro avg       0.35      0.35      0.33      1492\n",
      "weighted avg       0.50      0.51      0.50      1492\n",
      "\n"
     ]
    },
    {
     "name": "stderr",
     "output_type": "stream",
     "text": [
      "/anaconda3/envs/learn-env/lib/python3.7/site-packages/sklearn/metrics/classification.py:1437: UndefinedMetricWarning: Precision and F-score are ill-defined and being set to 0.0 in labels with no predicted samples.\n",
      "  'precision', 'predicted', average, warn_for)\n"
     ]
    }
   ],
   "source": [
    "# Create a confusion matrix and classification report for adaboost \n",
    "adaboost_confusion_matrix = confusion_matrix(y_test, adaboost_test_preds)\n",
    "print(\"Confusion Matrix:\")\n",
    "print(adaboost_confusion_matrix)\n",
    "\n",
    "adaboost_classification_report = classification_report(y_test, adaboost_test_preds)\n",
    "print(\"\\n\")\n",
    "print(adaboost_classification_report)"
   ]
  },
  {
   "cell_type": "code",
   "execution_count": 63,
   "metadata": {},
   "outputs": [
    {
     "name": "stdout",
     "output_type": "stream",
     "text": [
      "Confusion Matrix:\n",
      "[[301   0   0  14   2   0   0]\n",
      " [  2  35   0   0   0   0   0]\n",
      " [  0   0  61   3   0   0   0]\n",
      " [  7   0   1 434  18   0   0]\n",
      " [ 11   0   1  21 443   0   2]\n",
      " [  0   2   0   0   0  62   0]\n",
      " [  0   0   0   8   9   0  55]]\n",
      "\n",
      "\n",
      "              precision    recall  f1-score   support\n",
      "\n",
      "           0       0.94      0.95      0.94       317\n",
      "           1       0.95      0.95      0.95        37\n",
      "           2       0.97      0.95      0.96        64\n",
      "           3       0.90      0.94      0.92       460\n",
      "           4       0.94      0.93      0.93       478\n",
      "           5       1.00      0.97      0.98        64\n",
      "           6       0.96      0.76      0.85        72\n",
      "\n",
      "    accuracy                           0.93      1492\n",
      "   macro avg       0.95      0.92      0.93      1492\n",
      "weighted avg       0.93      0.93      0.93      1492\n",
      "\n"
     ]
    }
   ],
   "source": [
    "# Create a confusion matrix and classification report for gbt \n",
    "gbt_confusion_matrix = confusion_matrix(y_test, gbt_clf_test_preds)\n",
    "print(\"Confusion Matrix:\")\n",
    "print(gbt_confusion_matrix)\n",
    "\n",
    "gbt_classification_report = classification_report(y_test, gbt_clf_test_preds)\n",
    "print(\"\\n\")\n",
    "print(gbt_classification_report)"
   ]
  },
  {
   "cell_type": "markdown",
   "metadata": {},
   "source": [
    "### Use fn to call out adaboost and gbt functions to calculate cross validation score for both train and test data. Compute the mean cross validation score for each model. Also cv set to cv=10. "
   ]
  },
  {
   "cell_type": "code",
   "execution_count": 64,
   "metadata": {},
   "outputs": [
    {
     "name": "stdout",
     "output_type": "stream",
     "text": [
      "Mean Adaboost Cross-Val Score (k=10):\n",
      "train: 0.5134388437043073, test: 0.4820237628874297\n"
     ]
    }
   ],
   "source": [
    "fn.adaboost(X_train, X_test, y_train, y_test)"
   ]
  },
  {
   "cell_type": "code",
   "execution_count": 65,
   "metadata": {},
   "outputs": [
    {
     "ename": "SyntaxError",
     "evalue": "invalid syntax (<ipython-input-65-8a5f3555a78e>, line 1)",
     "output_type": "error",
     "traceback": [
      "\u001b[0;36m  File \u001b[0;32m\"<ipython-input-65-8a5f3555a78e>\"\u001b[0;36m, line \u001b[0;32m1\u001b[0m\n\u001b[0;31m    fn.gbt(X_train, X_test, y_train, y_test)`\u001b[0m\n\u001b[0m                                            ^\u001b[0m\n\u001b[0;31mSyntaxError\u001b[0m\u001b[0;31m:\u001b[0m invalid syntax\n"
     ]
    }
   ],
   "source": [
    "fn.gbt(X_train, X_test, y_train, y_test)`"
   ]
  },
  {
   "cell_type": "code",
   "execution_count": null,
   "metadata": {},
   "outputs": [],
   "source": []
  }
 ],
 "metadata": {
  "kernelspec": {
   "display_name": "Python [conda env:learn-env] *",
   "language": "python",
   "name": "conda-env-learn-env-py"
  },
  "language_info": {
   "codemirror_mode": {
    "name": "ipython",
    "version": 3
   },
   "file_extension": ".py",
   "mimetype": "text/x-python",
   "name": "python",
   "nbconvert_exporter": "python",
   "pygments_lexer": "ipython3",
   "version": "3.7.0"
  }
 },
 "nbformat": 4,
 "nbformat_minor": 2
}
